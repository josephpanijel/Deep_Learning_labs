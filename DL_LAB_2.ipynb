{
 "cells": [
  {
   "cell_type": "markdown",
   "metadata": {
    "id": "LdvYJK8dGMGC"
   },
   "source": [
    "# Deep Learning Course: Lab Exercises"
   ]
  },
  {
   "cell_type": "markdown",
   "metadata": {
    "id": "esEx2gjvGMGC"
   },
   "source": [
    "In this lab exercise you will:\n",
    "\n",
    "a) Solve a simple Linear Regression problem with PyTorch.\n"
   ]
  },
  {
   "cell_type": "markdown",
   "metadata": {
    "id": "uTWw0X_9GMGC"
   },
   "source": [
    "# Note"
   ]
  },
  {
   "cell_type": "markdown",
   "metadata": {
    "id": "pquVrDEfGMGC"
   },
   "source": [
    "Apart from the Questions, there are instruction comments throughout the notebook as well as comments inside the code cells beginning with two hashtags (##). In addition, there are #**START CODE  /  #**END CODE comments indicating the startand ending of your code sections. Pay attention not to delete these comments."
   ]
  },
  {
   "cell_type": "markdown",
   "metadata": {
    "id": "YYYvNu6U9Hkf"
   },
   "source": [
    "#**Q1 Solve a simple Linear Regression problem**"
   ]
  },
  {
   "cell_type": "markdown",
   "metadata": {
    "id": "Tq-fv4XuUDyF"
   },
   "source": [
    "Find the linear relationship between a dependent variable 'y' and an independent variable 'x'.\n",
    "\n",
    "Equation: y = 4x + 3"
   ]
  },
  {
   "cell_type": "code",
   "execution_count": 1,
   "metadata": {
    "id": "PTFbA6ssqJKQ"
   },
   "outputs": [
    {
     "name": "stdout",
     "output_type": "stream",
     "text": [
      "[5.11821625 9.50463696 1.44159613 9.48649447 3.11831452 4.23326449\n",
      " 8.27702594 4.09199136 5.49593688 0.27559113 7.53513109 5.38143313\n",
      " 3.29731716 7.88428703 3.03194829]\n"
     ]
    }
   ],
   "source": [
    "## create dummy data for training\n",
    "import numpy as np\n",
    "rng = np.random.default_rng(seed=1)\n",
    "x_train = rng.uniform(low=0.0, high=10.0, size=(15,))\n",
    "print(x_train)\n",
    "x_train = np.array(x_train, dtype=np.float32)\n",
    "x_train = x_train.reshape(-1, 1)"
   ]
  },
  {
   "cell_type": "code",
   "execution_count": 2,
   "metadata": {
    "id": "V2Vg8txkqMds"
   },
   "outputs": [],
   "source": [
    "##create the y values according to equation y = 4x + 3\n",
    "# *****START CODE\n",
    "y_train = 3*x_train + 4\n",
    "\n",
    "# *****END CODE\n",
    "y_train = np.array(y_train, dtype=np.float32)\n",
    "y_train = y_train.reshape(-1, 1)"
   ]
  },
  {
   "cell_type": "code",
   "execution_count": 3,
   "metadata": {
    "id": "-Sm3rqZccllF"
   },
   "outputs": [],
   "source": [
    "import torch\n",
    "##convert x_train and y_train numpy arrays to pytorch tensors\n",
    "# *****START CODE\n",
    "x_train = torch.from_numpy(x_train)\n",
    "y_train = torch.from_numpy(y_train)\n",
    "# *****END CODE"
   ]
  },
  {
   "cell_type": "code",
   "execution_count": 4,
   "metadata": {
    "id": "4W5mVjpWBtAH"
   },
   "outputs": [],
   "source": [
    "class LinearRegression(torch.nn.Module):\n",
    "    def __init__(self, in_size, out_size):\n",
    "        super(LinearRegression, self).__init__()\n",
    "        ##Define a linear layer\n",
    "        # *****START CODE\n",
    "        self.linear = torch.nn.Linear(in_size, out_size)\n",
    "        # *****END CODE\n",
    "\n",
    "    def forward(self, x):\n",
    "        out = self.linear(x)\n",
    "        return out"
   ]
  },
  {
   "cell_type": "code",
   "execution_count": 5,
   "metadata": {
    "id": "6pNUFrD6B3qM"
   },
   "outputs": [],
   "source": [
    "##define input and output dimensions of the model\n",
    "# *****START CODE\n",
    "in_dim = 1\n",
    "out_dim = 1\n",
    "# *****END CODE\n",
    "\n",
    "LR = 0.01 \n",
    "epochs = 100\n",
    "\n",
    "model = LinearRegression(in_dim, out_dim)"
   ]
  },
  {
   "cell_type": "code",
   "execution_count": 6,
   "metadata": {
    "id": "7OieSFIRB4lE"
   },
   "outputs": [],
   "source": [
    "criterion = torch.nn.MSELoss() \n",
    "optimizer = torch.optim.SGD(model.parameters(), lr=LR)"
   ]
  },
  {
   "cell_type": "code",
   "execution_count": 7,
   "metadata": {
    "id": "U-o_W3s-qQc8"
   },
   "outputs": [
    {
     "name": "stdout",
     "output_type": "stream",
     "text": [
      "epoch 0, loss 552.7752685546875\n",
      "epoch 1, loss 48.60337448120117\n",
      "epoch 2, loss 5.828587055206299\n",
      "epoch 3, loss 2.186342716217041\n",
      "epoch 4, loss 1.863158106803894\n",
      "epoch 5, loss 1.8215950727462769\n",
      "epoch 6, loss 1.80403733253479\n",
      "epoch 7, loss 1.7886313199996948\n",
      "epoch 8, loss 1.7735271453857422\n",
      "epoch 9, loss 1.7585641145706177\n",
      "epoch 10, loss 1.7437291145324707\n",
      "epoch 11, loss 1.7290195226669312\n",
      "epoch 12, loss 1.7144333124160767\n",
      "epoch 13, loss 1.6999707221984863\n",
      "epoch 14, loss 1.685629963874817\n",
      "epoch 15, loss 1.6714091300964355\n",
      "epoch 16, loss 1.6573100090026855\n",
      "epoch 17, loss 1.6433290243148804\n",
      "epoch 18, loss 1.6294653415679932\n",
      "epoch 19, loss 1.6157186031341553\n",
      "epoch 20, loss 1.6020880937576294\n",
      "epoch 21, loss 1.588574767112732\n",
      "epoch 22, loss 1.575173258781433\n",
      "epoch 23, loss 1.5618840456008911\n",
      "epoch 24, loss 1.548709511756897\n",
      "epoch 25, loss 1.5356452465057373\n",
      "epoch 26, loss 1.5226898193359375\n",
      "epoch 27, loss 1.5098443031311035\n",
      "epoch 28, loss 1.497107982635498\n",
      "epoch 29, loss 1.4844775199890137\n",
      "epoch 30, loss 1.4719539880752563\n",
      "epoch 31, loss 1.4595376253128052\n",
      "epoch 32, loss 1.447225570678711\n",
      "epoch 33, loss 1.4350166320800781\n",
      "epoch 34, loss 1.4229108095169067\n",
      "epoch 35, loss 1.4109058380126953\n",
      "epoch 36, loss 1.399004578590393\n",
      "epoch 37, loss 1.3872021436691284\n",
      "epoch 38, loss 1.3755000829696655\n",
      "epoch 39, loss 1.3638964891433716\n",
      "epoch 40, loss 1.3523902893066406\n",
      "epoch 41, loss 1.340981125831604\n",
      "epoch 42, loss 1.3296691179275513\n",
      "epoch 43, loss 1.3184516429901123\n",
      "epoch 44, loss 1.307329535484314\n",
      "epoch 45, loss 1.296301245689392\n",
      "epoch 46, loss 1.2853660583496094\n",
      "epoch 47, loss 1.2745221853256226\n",
      "epoch 48, loss 1.263770580291748\n",
      "epoch 49, loss 1.253109097480774\n",
      "epoch 50, loss 1.2425380945205688\n",
      "epoch 51, loss 1.232055902481079\n",
      "epoch 52, loss 1.2216616868972778\n",
      "epoch 53, loss 1.211356520652771\n",
      "epoch 54, loss 1.2011370658874512\n",
      "epoch 55, loss 1.1910048723220825\n",
      "epoch 56, loss 1.180957555770874\n",
      "epoch 57, loss 1.1709948778152466\n",
      "epoch 58, loss 1.1611162424087524\n",
      "epoch 59, loss 1.151321291923523\n",
      "epoch 60, loss 1.1416093111038208\n",
      "epoch 61, loss 1.1319785118103027\n",
      "epoch 62, loss 1.1224299669265747\n",
      "epoch 63, loss 1.1129601001739502\n",
      "epoch 64, loss 1.1035722494125366\n",
      "epoch 65, loss 1.0942622423171997\n",
      "epoch 66, loss 1.085030436515808\n",
      "epoch 67, loss 1.0758769512176514\n",
      "epoch 68, loss 1.0668011903762817\n",
      "epoch 69, loss 1.057801604270935\n",
      "epoch 70, loss 1.0488778352737427\n",
      "epoch 71, loss 1.0400298833847046\n",
      "epoch 72, loss 1.0312563180923462\n",
      "epoch 73, loss 1.022556185722351\n",
      "epoch 74, loss 1.0139307975769043\n",
      "epoch 75, loss 1.0053776502609253\n",
      "epoch 76, loss 0.9968960285186768\n",
      "epoch 77, loss 0.9884858727455139\n",
      "epoch 78, loss 0.9801471829414368\n",
      "epoch 79, loss 0.971878707408905\n",
      "epoch 80, loss 0.9636796712875366\n",
      "epoch 81, loss 0.9555507898330688\n",
      "epoch 82, loss 0.9474889039993286\n",
      "epoch 83, loss 0.9394960999488831\n",
      "epoch 84, loss 0.9315711259841919\n",
      "epoch 85, loss 0.9237119555473328\n",
      "epoch 86, loss 0.9159193634986877\n",
      "epoch 87, loss 0.9081926941871643\n",
      "epoch 88, loss 0.9005317091941833\n",
      "epoch 89, loss 0.8929349780082703\n",
      "epoch 90, loss 0.8854020833969116\n",
      "epoch 91, loss 0.8779324293136597\n",
      "epoch 92, loss 0.8705262541770935\n",
      "epoch 93, loss 0.8631823658943176\n",
      "epoch 94, loss 0.8559013605117798\n",
      "epoch 95, loss 0.8486809134483337\n",
      "epoch 96, loss 0.8415209650993347\n",
      "epoch 97, loss 0.8344219326972961\n",
      "epoch 98, loss 0.8273832201957703\n",
      "epoch 99, loss 0.8204030990600586\n"
     ]
    }
   ],
   "source": [
    "#model.train()\n",
    "for epoch in range(epochs):\n",
    "    # Set all gradients to zero\n",
    "    optimizer.zero_grad()\n",
    "\n",
    "    # feed the inputs to the model, and get the outputs\n",
    "    outputs = model(x_train)\n",
    "\n",
    "    # calculate loss for the predicted output\n",
    "    loss = criterion(outputs, y_train)\n",
    "    # get gradients w.r.t to parameters\n",
    "    loss.backward()\n",
    "\n",
    "    # update parameters\n",
    "    optimizer.step()\n",
    "\n",
    "    print('epoch {}, loss {}'.format(epoch, loss.item()))"
   ]
  },
  {
   "cell_type": "markdown",
   "metadata": {
    "id": "auS_ZOKCfSBg"
   },
   "source": [
    "Create random test data and evaluate the trained model."
   ]
  },
  {
   "cell_type": "code",
   "execution_count": 8,
   "metadata": {
    "id": "qdSkAIacVYfi"
   },
   "outputs": [],
   "source": [
    "## create 'x' values for testing\n",
    "# *****START CODE\n",
    "x_test = rng.uniform(low=0.0, high=10.0, size=(15,))\n",
    "x_test = np.array(x_test, dtype=np.float32)\n",
    "x_test = x_test.reshape(-1, 1)\n",
    "# *****END CODE"
   ]
  },
  {
   "cell_type": "code",
   "execution_count": 9,
   "metadata": {
    "id": "32QizCbEXotQ"
   },
   "outputs": [],
   "source": [
    "##create the corresponding testing 'y' values\n",
    "# *****START CODE\n",
    "y_test = 4*x_test + 3\n",
    "# *****END CODE"
   ]
  },
  {
   "cell_type": "markdown",
   "metadata": {
    "id": "K-w-dADCg1Gx"
   },
   "source": [
    "Evaluate the model."
   ]
  },
  {
   "cell_type": "code",
   "execution_count": 10,
   "metadata": {
    "id": "navbs-J_qVaz"
   },
   "outputs": [],
   "source": [
    "from matplotlib import pyplot as plt\n",
    "\n",
    "model.eval()\n",
    "with torch.no_grad(): # we don't need gradients in the testing phase\n",
    "        predicted = model(x_test).data.numpy()"
   ]
  },
  {
   "cell_type": "code",
   "execution_count": 12,
   "metadata": {
    "id": "js9B__sUsyfK"
   },
   "outputs": [
    {
     "name": "stdout",
     "output_type": "stream",
     "text": [
      "Predicted: \n",
      "[[16.996359 ]\n",
      " [ 6.474913 ]\n",
      " [15.336908 ]\n",
      " [ 8.761082 ]\n",
      " [10.699602 ]\n",
      " [26.773813 ]\n",
      " [11.295584 ]\n",
      " [18.040186 ]\n",
      " [34.361244 ]\n",
      " [33.732838 ]\n",
      " [25.931498 ]\n",
      " [19.885757 ]\n",
      " [11.179731 ]\n",
      " [ 7.3513365]\n",
      " [34.005154 ]]\n",
      "True y values: \n",
      "[[17.604937]\n",
      " [ 8.021252]\n",
      " [16.09339 ]\n",
      " [10.103657]\n",
      " [11.8694  ]\n",
      " [26.51094 ]\n",
      " [12.412263]\n",
      " [18.555729]\n",
      " [33.422115]\n",
      " [32.849716]\n",
      " [25.743698]\n",
      " [20.236805]\n",
      " [12.306736]\n",
      " [ 8.81956 ]\n",
      " [33.097763]]\n"
     ]
    }
   ],
   "source": [
    "##Print the predicted values and the true values\n",
    "print('Predicted: ')\n",
    "# *****START CODE\n",
    "print(predicted )\n",
    "# *****END CODE\n",
    "\n",
    "print('True y values: ')\n",
    "# *****START CODE\n",
    "print(y_test)\n",
    "# *****END CODE"
   ]
  },
  {
   "cell_type": "code",
   "execution_count": 11,
   "metadata": {
    "id": "I9KNv6B3tFoa"
   },
   "outputs": [
    {
     "data": {
      "text/plain": "<Figure size 640x480 with 1 Axes>",
      "image/png": "[encoded data removed]"
     },
     "metadata": {},
     "output_type": "display_data"
    }
   ],
   "source": [
    "from matplotlib import pyplot as plt\n",
    "\n",
    "##plot the predicted values along with the true values\n",
    "plt.plot(x_test, y_test , 'go', label='True data', alpha=0.5)\n",
    "plt.plot(x_test, predicted , '--', label='Predictions', alpha=0.5)\n",
    "plt.legend(loc='best')\n",
    "plt.show()"
   ]
  },
  {
   "cell_type": "markdown",
   "metadata": {},
   "source": [
    "#**Q2 Classification with an MLP**\n",
    "\n",
    "We are going to work with a dataset of 8x8 images of digits, and our goal will be to classify them."
   ]
  },
  {
   "cell_type": "code",
   "execution_count": 13,
   "metadata": {},
   "outputs": [],
   "source": [
    "import numpy as np\n",
    "import matplotlib.pyplot as plt\n",
    "from sklearn.datasets import load_digits\n",
    "from sklearn.model_selection import train_test_split"
   ]
  },
  {
   "cell_type": "code",
   "execution_count": 14,
   "metadata": {},
   "outputs": [
    {
     "name": "stdout",
     "output_type": "stream",
     "text": [
      "There are 1797 images in this dataset of size (8, 8).\n"
     ]
    }
   ],
   "source": [
    "digits_dataset = load_digits()\n",
    "digits_x = digits_dataset.images / 16\n",
    "digits_y = digits_dataset.target\n",
    "print(f'There are {len(digits_x)} images in this dataset of size {digits_x.shape[1:]}.')"
   ]
  },
  {
   "cell_type": "code",
   "execution_count": 15,
   "metadata": {},
   "outputs": [],
   "source": [
    "train_x, val_x, train_y, val_y = train_test_split(digits_x, digits_y, test_size=0.2, shuffle=True)"
   ]
  },
  {
   "cell_type": "code",
   "execution_count": 16,
   "metadata": {},
   "outputs": [],
   "source": [
    "def plot_digit(x, y, idx):\n",
    "    x = x[idx]\n",
    "    plt.imshow(x)\n",
    "    plt.title(y[idx])\n",
    "    plt.show()"
   ]
  },
  {
   "cell_type": "code",
   "execution_count": 17,
   "metadata": {},
   "outputs": [
    {
     "data": {
      "text/plain": "<Figure size 640x480 with 1 Axes>",
      "image/png": "[encoded data removed]"
     },
     "metadata": {},
     "output_type": "display_data"
    }
   ],
   "source": [
    "plot_digit(digits_x, digits_y, 20)"
   ]
  },
  {
   "cell_type": "markdown",
   "source": [
    "You will now implement a simple 2 layer MLP model that you will train using gradient descent algorithm.\n",
    "\n",
    "Here are a few reminders:\n",
    "\n",
    "Let $\\mathcal{M}$ be a 2 a layer MLP model trained on $X$ to predict $y$ with categorical cross-entropy loss. We have:\n",
    "\n",
    "\\begin{equation}\n",
    "    \\mathcal{L} = - \\sum_{i=1}^{n} y_ilog(\\hat{y}_i)\n",
    "\\end{equation}\n",
    "\n",
    "$\\mathcal{M}$ can be decomposed as:\n",
    "\n",
    "\\begin{equation}\n",
    "    \\hat{y} &= \\sigma_2(Z_2) \\\\\n",
    "    Z_2 &= W_2Y_1 + b_2\n",
    "\\end{equation}\n",
    "\n",
    "with $\\sigma_2$ the softmax activation function.\n",
    "\n",
    "and:\n",
    "\n",
    "\\begin{equation}\n",
    "    Y_1 &= \\sigma_1(Z_1) \\\\\n",
    "    Z_1 &= W_1X + b_1\n",
    "\\end{equation}\n",
    "\n",
    "with $\\sigma_1$ the sigmoid activation function.\n",
    "\n",
    "### Question\n",
    "\n",
    "Compute the gradient of the softmax activation function used in the output layer for categorical cross-entropy loss."
   ],
   "metadata": {
    "collapsed": false
   }
  },
  {
   "cell_type": "markdown",
   "source": [
    "### Answer: Gradient of Softmax Activation Function\n",
    "\n",
    "\\begin{equation}\n",
    "    \\hat{y}_i &= \\sigma_2(l_i) \\\\\n",
    "    &= \\frac{e^{l_i}}{\\sum{e^l}}\n",
    "\\end{equation}\n",
    "\n",
    "For $i=k$:\n",
    "\\begin{equation}\n",
    "    \\frac{\\partial\\hat{y}_i}{\\partial{l_k}} &= \\frac{e^{l_i}\\sum{e^l}-e^{l_i}e^{l_k}}{(\\sum{e^l})^2} \\\\\n",
    "    &= \\frac{e^{l_i}}{\\sum{e^l}}(1-\\frac{e^{l_k}}{\\sum{e^l}}) \\\\\n",
    "    &= \\hat{y_i}(1-\\hat{y}_k) \\\\\n",
    "    &= \\hat{y_k}(1-\\hat{y}_k)\n",
    "\\end{equation}\n",
    "\n",
    "For $i\\neq k$:\n",
    "\n",
    "\\begin{equation}\n",
    "    \\frac{\\partial\\hat{y}_i}{\\partial{l_k}} &= \\frac{0*\\sum{e^l}-e^{l_i}e^{l_k}}{(\\sum{e^l})^2} \\\\\n",
    "    &= -\\frac{e^{l_i}}{\\sum{e^l}}*\\frac{e^{l_k}}{\\sum{e^l}} \\\\\n",
    "    &= -\\hat{y_i}\\hat{y}_k\n",
    "\\end{equation}"
   ],
   "metadata": {
    "collapsed": false
   }
  },
  {
   "cell_type": "markdown",
   "source": [
    "### Question\n",
    "\n",
    "Compute the gradient of the categorical cross-entropy loss function $\\mathcal{L}$ with respect to the pre-activation outputs $Z_2$ of the second layer."
   ],
   "metadata": {
    "collapsed": false
   }
  },
  {
   "cell_type": "markdown",
   "source": [
    "### Answer: Gradient of $\\mathcal{L}$ with Respect to $Z_2$\n",
    "\n",
    "\\begin{equation}\n",
    "    \\frac{\\partial \\mathcal{L}}{\\partial l_k} &= - \\sum_{i=1}^{n} y_i \\frac{\\partial log(\\hat{y}_i)}{\\partial l_k} \\\\\n",
    "    &=- \\sum_{i=1}^{n} \\frac{y_i}{\\hat{y}_i} \\frac{\\partial\\hat{y}_i}{\\partial l_k} \\\\\n",
    "    &= \\sum_{i\\neq k} \\frac{y_i}{\\hat{y}_i} \\hat{y}_i\\hat{y}_k - \\frac{y_k}{\\hat{y}_k} * \\hat{y}_k(1-\\hat{y}_k) \\\\\n",
    "    &= \\sum_{i\\neq k} y_i\\hat{y}_k - y_k + y_k\\hat{y}_k \\\\\n",
    "    &= \\sum_{i} y_i\\hat{y}_k - y_k \\\\\n",
    "    &= \\hat{y}_k - y_k\n",
    "\\end{equation}\n",
    "So,\n",
    "\\begin{equation}\n",
    "    \\frac{\\partial \\mathcal{L}}{\\partial Z_2} &= \\hat{y} - y \\\\\n",
    "    &= \\sigma_2(Z_2) - y\n",
    "\\end{equation}"
   ],
   "metadata": {
    "collapsed": false
   }
  },
  {
   "cell_type": "markdown",
   "source": [
    "### Question\n",
    "\n",
    "Based on your understanding of backpropagation, derive the expressions for gradients of the loss function with respect to weights $W_2$ and biases $b_2$ in the second layer."
   ],
   "metadata": {
    "collapsed": false
   }
  },
  {
   "cell_type": "markdown",
   "source": [
    "### Answer:  Gradients with Respect to $W_2$ and $b_2$\n",
    "\n",
    "\\begin{equation}\n",
    "\\frac{\\partial \\mathcal{L}}{\\partial W_2} &=  \\frac{\\partial \\mathcal{L}}{\\partial \\hat{Z_2}}\\frac{\\partial Z_2}{\\partial \\hat{W_2}} \\\\\n",
    "&= Y_1^T.(\\hat{y}-y)\n",
    "\\end{equation}\n",
    "\n",
    "\\begin{equation}\n",
    "\\frac{\\partial \\mathcal{L}}{\\partial b_2} &=  \\frac{\\partial \\mathcal{L}}{\\partial \\hat{Z_2}}\\frac{\\partial Z_2}{\\partial \\hat{b_2}} \\\\\n",
    "&= \\sum\\hat{y}-y\n",
    "\\end{equation}"
   ],
   "metadata": {
    "collapsed": false
   }
  },
  {
   "cell_type": "markdown",
   "source": [
    "### Question\n",
    "\n",
    "Recall the gradient of sigmoid activation function"
   ],
   "metadata": {
    "collapsed": false
   }
  },
  {
   "cell_type": "markdown",
   "source": [
    "### Answer: Gradient of Sigmoid Activation Function\n",
    "\n",
    "\\begin{equation}\n",
    "    \\frac{\\partial Y_1}{\\partial Z_1} = Y_1(1-Y_1)\n",
    "\\end{equation}"
   ],
   "metadata": {
    "collapsed": false
   }
  },
  {
   "cell_type": "markdown",
   "source": [
    "### Question\n",
    "\n",
    "Conclude the expression  for the gradients of the loss function with respect to weights $W_1$, and biases $b_1$ of the first layer."
   ],
   "metadata": {
    "collapsed": false
   }
  },
  {
   "cell_type": "markdown",
   "source": [
    "### Answer: Gradients with Respect to $W_1$ and $b_1$\n",
    "\n",
    "\\begin{equation}\n",
    "\\frac{\\partial \\mathcal{L}}{\\partial W_1} &=  \\frac{\\partial \\mathcal{L}}{\\partial Z_2}\\frac{\\partial Z_2}{\\partial \\hat{Y_1}} \\frac{\\partial Y_1}{\\partial \\hat{Z_1}} \\frac{\\partial Z_1}{\\partial \\hat{W_1}}\\\\\n",
    "&= X^T \\cdot ((\\hat{y} - y) \\cdot W_2^T) \\odot (Y_1 \\cdot (1 - Y_1))\n",
    "\\end{equation}\n",
    "\n",
    "\\begin{equation}\n",
    "\\frac{\\partial \\mathcal{L}}{\\partial b_1} &= \\frac{\\partial \\mathcal{L}}{\\partial \\hat{Z_2}}\\frac{\\partial Z_2}{\\partial \\hat{Y_1}} \\frac{\\partial Y_1}{\\partial \\hat{Z_1}} \\frac{\\partial Z_1}{\\partial \\hat{b_1}} \\\\\n",
    "&= \\sum ((\\hat{y} - y) \\cdot W_2^T) \\odot (Y_1 \\cdot (1 - Y_1))\n",
    "\\end{equation}"
   ],
   "metadata": {
    "collapsed": false
   }
  },
  {
   "cell_type": "code",
   "execution_count": null,
   "outputs": [],
   "source": [
    "class SimpleMLP:\n",
    "    def __init__(self, input_size, hidden_size, output_size):\n",
    "        self.input_size = input_size\n",
    "        self.hidden_size = hidden_size\n",
    "        self.output_size = output_size\n",
    "        # Initialize weights and biases\n",
    "        self.weights_input_hidden = np.random.randn(self.input_size, self.hidden_size)\n",
    "        self.bias_hidden = np.zeros((1, self.hidden_size))\n",
    "        self.weights_hidden_output = np.random.randn(self.hidden_size, self.output_size)\n",
    "        self.bias_output = np.zeros((1, self.output_size))\n",
    "\n",
    "    def sigmoid(self, x):\n",
    "        sigmoid_x = 1 / (1 + np.exp(-x))\n",
    "        return sigmoid_x\n",
    "\n",
    "    def softmax(self, x):\n",
    "        # Softmax activation function for the output layer\n",
    "        exp_x = np.exp(x - np.max(x, axis=1, keepdims=True))\n",
    "        softmax_x = exp_x / np.sum(exp_x, axis=1, keepdims=True)\n",
    "        return softmax_x\n",
    "\n",
    "    def forward(self, X):\n",
    "        X = X.reshape(-1, self.input_size)\n",
    "        # Forward pass\n",
    "        self.hidden_output = self.sigmoid(np.dot(X, self.weights_input_hidden) + self.bias_hidden)\n",
    "        self.predictions = self.softmax(np.dot(self.hidden_output, self.weights_hidden_output) + self.bias_output)\n",
    "        return self.predictions\n",
    "\n",
    "    def backward(self, X, y, learning_rate):\n",
    "\n",
    "        X = X.reshape(-1, self.input_size)\n",
    "        # Backward pass with gradient descent\n",
    "        m = X.shape[0]\n",
    "        # Calculate loss\n",
    "        loss = -np.sum(np.log(self.predictions[range(m), y])) / m\n",
    "\n",
    "        # Output layer gradients\n",
    "        output_error = self.predictions\n",
    "        output_error[range(m), y] -= 1\n",
    "        output_error /= m\n",
    "\n",
    "        # Hidden layer gradients\n",
    "        hidden_error = self.hidden_output * (1 - self.hidden_output)\n",
    "        hidden_error = np.dot(output_error, self.weights_hidden_output.T) * hidden_error\n",
    "\n",
    "        # Update weights and biases\n",
    "        self.weights_hidden_output -= learning_rate * np.dot(self.hidden_output.T, output_error)\n",
    "        self.bias_output -= learning_rate * np.sum(output_error, axis=0, keepdims=True)\n",
    "        self.weights_input_hidden -= learning_rate * np.dot(X.T, hidden_error)\n",
    "        self.bias_hidden -= learning_rate * np.sum(hidden_error, axis=0, keepdims=True)\n",
    "\n",
    "        return loss\n",
    "\n",
    "    def train(self, X, y, epochs, learning_rate):\n",
    "        # Training loop\n",
    "        for epoch in range(epochs):\n",
    "            predictions = self.forward(X)\n",
    "            loss = self.backward(X, y, learning_rate)\n",
    "            \n",
    "            # Print the loss every 100 epochs\n",
    "            if epoch % 100 == 0:\n",
    "                print(f'Epoch {epoch}, Loss: {loss}')"
   ],
   "metadata": {
    "collapsed": false
   }
  },
  {
   "cell_type": "markdown",
   "metadata": {},
   "source": [
    "Now that the model has been defined, let's initialize it, and train it."
   ]
  },
  {
   "cell_type": "code",
   "execution_count": 62,
   "metadata": {},
   "outputs": [],
   "source": [
    "input_dim = 64\n",
    "hidden_dim = 32\n",
    "output_dim = 10\n",
    "model = SimpleMLP(input_dim, hidden_dim, output_dim)"
   ]
  },
  {
   "cell_type": "code",
   "execution_count": 63,
   "metadata": {},
   "outputs": [
    {
     "name": "stdout",
     "output_type": "stream",
     "text": [
      "Epoch 0, Loss: 7.236159863661613\n",
      "Epoch 100, Loss: 1.8126498262693036\n",
      "Epoch 200, Loss: 1.302506127770462\n",
      "Epoch 300, Loss: 1.0007572340801134\n",
      "Epoch 400, Loss: 0.8073748133325998\n",
      "Epoch 500, Loss: 0.6785086685854831\n",
      "Epoch 600, Loss: 0.5869995773356632\n",
      "Epoch 700, Loss: 0.5189502084968768\n",
      "Epoch 800, Loss: 0.4665675114280899\n",
      "Epoch 900, Loss: 0.42504910911268845\n",
      "Epoch 1000, Loss: 0.39129907750340154\n",
      "Epoch 1100, Loss: 0.3632681225755993\n",
      "Epoch 1200, Loss: 0.33956244284011455\n",
      "Epoch 1300, Loss: 0.3192066035749164\n",
      "Epoch 1400, Loss: 0.30149951866051883\n",
      "Epoch 1500, Loss: 0.2859252822730844\n",
      "Epoch 1600, Loss: 0.2720962097417368\n",
      "Epoch 1700, Loss: 0.25971526931713296\n",
      "Epoch 1800, Loss: 0.2485506773458328\n",
      "Epoch 1900, Loss: 0.23841845099605888\n"
     ]
    }
   ],
   "source": [
    "model.train(train_x, train_y, 2000, 0.1)"
   ]
  },
  {
   "cell_type": "markdown",
   "metadata": {},
   "source": [
    "Now, let's check the performance on the training and validation sets."
   ]
  },
  {
   "cell_type": "code",
   "execution_count": 53,
   "metadata": {},
   "outputs": [],
   "source": [
    "def evaluate_prediction(model, x, y):\n",
    "    predictions = model.forward(x).argmax(axis=-1)\n",
    "    top1_accuracy = (y == predictions).mean()\n",
    "    return top1_accuracy"
   ]
  },
  {
   "cell_type": "code",
   "execution_count": 54,
   "metadata": {},
   "outputs": [
    {
     "name": "stdout",
     "output_type": "stream",
     "text": [
      "Accuracy on the training set 0.9513.\n",
      "Accuracy on the validation set 0.9528.\n"
     ]
    }
   ],
   "source": [
    "print(f'Accuracy on the training set {evaluate_prediction(model, train_x, train_y):.4f}.')\n",
    "print(f'Accuracy on the validation set {evaluate_prediction(model, val_x, val_y):.4f}.')"
   ]
  },
  {
   "cell_type": "code",
   "execution_count": null,
   "outputs": [],
   "source": [],
   "metadata": {
    "collapsed": false
   }
  }
 ],
 "metadata": {
  "colab": {
   "provenance": []
  },
  "kernelspec": {
   "display_name": "Python 3 (ipykernel)",
   "language": "python",
   "name": "python3"
  },
  "language_info": {
   "codemirror_mode": {
    "name": "ipython",
    "version": 3
   },
   "file_extension": ".py",
   "mimetype": "text/x-python",
   "name": "python",
   "nbconvert_exporter": "python",
   "pygments_lexer": "ipython3",
   "version": "3.10.8"
  }
 },
 "nbformat": 4,
 "nbformat_minor": 1
}
